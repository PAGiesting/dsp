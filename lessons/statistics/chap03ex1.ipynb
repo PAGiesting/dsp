{
 "cells": [
  {
   "cell_type": "markdown",
   "metadata": {},
   "source": [
    "Solution to exercise 1 of Chapter 3 of ThinkStats\n",
    "Paul Giesting\n",
    "28 February 2020"
   ]
  },
  {
   "cell_type": "code",
   "execution_count": 1,
   "metadata": {},
   "outputs": [],
   "source": [
    "import numpy as np\n",
    "import nsfg\n",
    "import thinkstats2 as ts2\n",
    "import thinkplot as tp"
   ]
  },
  {
   "cell_type": "markdown",
   "metadata": {},
   "source": [
    "Exercise 3.1: the class / family size \"paradox.\"\n",
    "Use the NSFG respondent variable NUMKDHH to construct\n",
    "the actual distribution for the number of children\n",
    "under 18 in the household.\n",
    "Now compute the biased distribution we would see if we\n",
    "surveyed the children and asked them how many\n",
    "children under 18 were in their households.\n",
    "Plot the actual and biased distributions and compute\n",
    "their means.\n",
    "\n",
    "Response data is read in from the nsfg library as a DataFrame\n",
    "nsfg calls thinkplot2 which calls pandas... ok."
   ]
  },
  {
   "cell_type": "code",
   "execution_count": 2,
   "metadata": {},
   "outputs": [],
   "source": [
    "responses = nsfg.ReadFemResp()"
   ]
  },
  {
   "cell_type": "markdown",
   "metadata": {},
   "source": [
    "The \"actual distribution\" means from the perspective of\n",
    "a listing of households. (I don't see why, in this chapter,\n",
    "this is regarded as somehow ontologically prior to the\n",
    "distribution as seen from the point of view of the people\n",
    "in the groups. But I digress.)"
   ]
  },
  {
   "cell_type": "code",
   "execution_count": 9,
   "metadata": {},
   "outputs": [
    {
     "name": "stdout",
     "output_type": "stream",
     "text": [
      "households 1.0\n"
     ]
    }
   ],
   "source": [
    "pmf_by_house = ts2.Pmf(responses.numkdhh, label='households')\n",
    "print(pmf_by_house, pmf_by_house.Total())"
   ]
  },
  {
   "cell_type": "markdown",
   "metadata": {},
   "source": [
    "This tops out at 5? Right. Anyway, plot a histogram."
   ]
  },
  {
   "cell_type": "code",
   "execution_count": 10,
   "metadata": {},
   "outputs": [
    {
     "data": {
      "image/png": "[encoded data removed]",
      "text/plain": [
       "<Figure size 432x288 with 1 Axes>"
      ]
     },
     "metadata": {
      "needs_background": "light"
     },
     "output_type": "display_data"
    }
   ],
   "source": [
    "tp.Hist(pmf_by_house)"
   ]
  },
  {
   "cell_type": "code",
   "execution_count": 11,
   "metadata": {},
   "outputs": [
    {
     "data": {
      "text/plain": [
       "1.024205155043831"
      ]
     },
     "execution_count": 11,
     "metadata": {},
     "output_type": "execute_result"
    }
   ],
   "source": [
    "pmf_by_house.Mean()"
   ]
  },
  {
   "cell_type": "markdown",
   "metadata": {},
   "source": [
    "This is the code from the chapter to \"bias\" the distribution to reflect the perspective of the members of the groups, rather than the groups themselves. Looked at somewhat differently, this calculates the probability of any individual group member being in a group of size x, starting with the probability of any group being of size x."
   ]
  },
  {
   "cell_type": "code",
   "execution_count": 12,
   "metadata": {},
   "outputs": [
    {
     "data": {
      "image/png": "[encoded data removed]",
      "text/plain": [
       "<Figure size 432x288 with 1 Axes>"
      ]
     },
     "metadata": {
      "needs_background": "light"
     },
     "output_type": "display_data"
    },
    {
     "data": {
      "text/plain": [
       "<Figure size 576x432 with 0 Axes>"
      ]
     },
     "metadata": {},
     "output_type": "display_data"
    }
   ],
   "source": [
    "def BiasPmf(pmf, label):\n",
    "    new_pmf = pmf.Copy(label=label)\n",
    "    \n",
    "    for x, p in pmf.Items():\n",
    "        new_pmf.Mult(x, x)\n",
    "        \n",
    "    new_pmf.Normalize()\n",
    "    return new_pmf\n",
    "\n",
    "pmf_by_child = BiasPmf(pmf_by_house, label='observed')\n",
    "tp.PrePlot(2)\n",
    "tp.Pmfs([pmf_by_house, pmf_by_child])\n",
    "tp.Show(xlabel='number of children in household', ylabel='number of households or responses')"
   ]
  },
  {
   "cell_type": "code",
   "execution_count": 13,
   "metadata": {},
   "outputs": [
    {
     "data": {
      "text/plain": [
       "2.403679100664282"
      ]
     },
     "execution_count": 13,
     "metadata": {},
     "output_type": "execute_result"
    }
   ],
   "source": [
    "pmf_by_child.Mean()"
   ]
  },
  {
   "cell_type": "code",
   "execution_count": null,
   "metadata": {},
   "outputs": [],
   "source": []
  }
 ],
 "metadata": {
  "kernelspec": {
   "display_name": "Python 3",
   "language": "python",
   "name": "python3"
  },
  "language_info": {
   "codemirror_mode": {
    "name": "ipython",
    "version": 3
   },
   "file_extension": ".py",
   "mimetype": "text/x-python",
   "name": "python",
   "nbconvert_exporter": "python",
   "pygments_lexer": "ipython3",
   "version": "3.7.6"
  }
 },
 "nbformat": 4,
 "nbformat_minor": 4
}
